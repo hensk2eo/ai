{
  "cells": [
    {
      "cell_type": "markdown",
      "metadata": {
        "id": "view-in-github",
        "colab_type": "text"
      },
      "source": [
        "<a href=\"https://colab.research.google.com/github/hensk2eo/ai/blob/main/Part3.ipynb\" target=\"_parent\"><img src=\"https://colab.research.google.com/assets/colab-badge.svg\" alt=\"Open In Colab\"/></a>"
      ]
    },
    {
      "cell_type": "markdown",
      "id": "2647e70f",
      "metadata": {
        "id": "2647e70f"
      },
      "source": [
        "# 확인하세요!\n",
        "\n",
        "### 제출 전에 모든 코드가 순차적으로 잘 작동하는지 확인하세요. \n",
        "- **커널을 다시 시작**한 다음(메뉴바에서 Kernel$\\rightarrow$Restart 선택) **모든 셀을 실행**해 보세요(메뉴바에서 Cell$\\rightarrow$Run All 선택).\n",
        "\n",
        "### 지정 셀의 지정 영역에서만 코드를 작성했는지 확인하세요.\n",
        "- `YOUR CODE HERE`이 적혀 있는 셀에 대한 코드만 채점에 반영됩니다.\n",
        "- `YOUR CODE HERE` ~ `YOUR CODE ENDS HERE` 사이에 본인의 코드를 작성하세요.\n",
        "- 지정 셀 이외에 본인이 코드 실행 결과를 확인하기 위한 용도로 셀을 추가해도 됩니다.\n",
        "    - **제출 시 지정 셀에서는 정답 이외에 결과 확인을 위한 코드 등은 제거하고 제출해 주세요!**\n",
        "    - **기존 셀을 삭제하지 마세요! 채점에 불이익이 있을 수 있습니다.**\n",
        "\n",
        "### 제출 방법\n",
        "- 시간 내에 문제를 풀고, 본인의 github repo에 push 하세요.\n",
        "    - **디렉토리 구조가 변하면 안 됩니다.** `codestates/ds-sc2xx`와 디렉토리 구조가 동일해야 합니다. 답안 파일의 이름을 변경하지 않았는지, 기존에 없던 폴더가 추가되지 않았는지 등을 확인하세요.\n",
        "    - **코드스테이츠 가입 시 연동한 github 계정을 사용해야 합니다.**\n",
        "    - **branch를 변경하여 작업하지 마세요.**\n",
        "        - `master` branch에의 제출 사항에 대해서만 평가합니다.\n",
        "        - 본인의 github repo `master` branch에 제출이 잘 되어 있는지 확인하세요."
      ]
    },
    {
      "cell_type": "markdown",
      "id": "4e160b3e",
      "metadata": {
        "id": "4e160b3e"
      },
      "source": [
        "---"
      ]
    },
    {
      "cell_type": "markdown",
      "id": "6f4f7cc5",
      "metadata": {
        "deletable": false,
        "editable": false,
        "nbgrader": {
          "cell_type": "markdown",
          "checksum": "cf46d5569d9abbc5bd627a763dfcdf8f",
          "grade": false,
          "grade_id": "cell-5b7fa4769535997c",
          "locked": true,
          "schema_version": 3,
          "solution": false,
          "task": false
        },
        "id": "6f4f7cc5"
      },
      "source": [
        "# SC22x\n",
        " "
      ]
    },
    {
      "cell_type": "markdown",
      "id": "6b9c8083",
      "metadata": {
        "deletable": false,
        "editable": false,
        "nbgrader": {
          "cell_type": "markdown",
          "checksum": "bdc0145596fe2a567065d26e36cdc30e",
          "grade": false,
          "grade_id": "cell-f75742bcbc000238",
          "locked": true,
          "schema_version": 3,
          "solution": false,
          "task": false
        },
        "id": "6b9c8083"
      },
      "source": [
        "# Part 3 - Confusion Matrix\n"
      ]
    },
    {
      "cell_type": "markdown",
      "id": "ac54cd66",
      "metadata": {
        "deletable": false,
        "editable": false,
        "nbgrader": {
          "cell_type": "markdown",
          "checksum": "dd87e482b11385916ff95502caa5605b",
          "grade": false,
          "grade_id": "cell-ef9a7f73c3782e7d",
          "locked": true,
          "schema_version": 3,
          "solution": false,
          "task": false
        },
        "id": "ac54cd66"
      },
      "source": [
        "## 3.1 Confusion Matrix 계산\n",
        "- sklearn 라이브러리를 사용하지 않고, 이진분류 모델의 y_pred, y_real로부터 TP, TN, FP, FN의 수를 구하는 `confusion_matrix` 함수를 작성하세요.\n",
        "- y_pred, y_real은 길이($\\ge2$)가 동일하고 값이 0 또는 1인 리스트입니다.\n",
        "- 1을 Positive, 0을 Negative로 가정합니다."
      ]
    },
    {
      "cell_type": "code",
      "execution_count": null,
      "id": "afd3c6b3",
      "metadata": {
        "deletable": false,
        "nbgrader": {
          "cell_type": "code",
          "checksum": "051ef5e2c9a05d57d3608ab402a9095a",
          "grade": false,
          "grade_id": "3-1",
          "locked": false,
          "schema_version": 3,
          "solution": true,
          "task": false
        },
        "id": "afd3c6b3"
      },
      "outputs": [],
      "source": [
        "import numpy as np\n",
        "\n",
        "\n",
        "def confusion_matrix(y_pred, y_real):\n",
        "    tp, tn, fp, fn = -1, -1, -1, -1\n",
        "\n",
        "    tp = sum((y_pred == 1) & (y_real == 1))\n",
        "    # YOUR CODE HERE.\n",
        "    tp, tn, fp, fn = 0,0,0,0\n",
        "    '''\n",
        "    TP=y_pred=1,y_real=1\n",
        "    TN=y_pred=0,y_real=0\n",
        "    FP=y_pred=1,y_real=0\n",
        "    FN=y_pred=0,y_real=1\n",
        "    '''\n",
        "    for x in range(len(y_real)):\n",
        "     if (y_pred[x]==y_real[x]) & (y_pred[x] + y_real[x] == 2): \n",
        "      tp=tp+1 \n",
        "     elif (y_pred[x]==y_real[x]) & (y_pred[x] + y_real[x] == 0): \n",
        "      tn=tn+1\n",
        "     elif (y_pred[x]!=y_real[x]) & (y_pred[x] > y_real[x]): \n",
        "      fp=fp+1\n",
        "     elif (y_pred[x]!=y_real[x]) & (y_pred[x] < y_real[x]): \n",
        "      fn=fn+1\n",
        "     else :\n",
        "      0\n",
        "    # YOUR CODE ENDS HERE\n",
        "\n",
        "    return tp, tn, fp, fn"
      ]
    },
    {
      "cell_type": "code",
      "execution_count": null,
      "id": "e758c132",
      "metadata": {
        "deletable": false,
        "editable": false,
        "nbgrader": {
          "cell_type": "code",
          "checksum": "cbd808c96379067be7897069eb7b211a",
          "grade": true,
          "grade_id": "3-1_test",
          "locked": true,
          "points": 1,
          "schema_version": 3,
          "solution": false,
          "task": false
        },
        "id": "e758c132",
        "outputId": "e1f298e3-3307-426e-9910-0faffff8c611",
        "colab": {
          "base_uri": "https://localhost:8080/"
        }
      },
      "outputs": [
        {
          "output_type": "stream",
          "name": "stdout",
          "text": [
            "(TP, TN, FP, FN) = (8, 5, 4, 3)\n"
          ]
        }
      ],
      "source": [
        "y_pred = np.array([0, 1, 1, 1, 1, 1, 1, 1, 1, 0, 1, 0, 1, 1, 0, 0, 0, 0, 0, 1])\n",
        "y_real = np.array([1, 1, 1, 1, 1, 1, 1, 1, 0, 1, 1, 1, 0, 0, 0, 0, 0, 0, 0, 0])\n",
        "tp, tn, fp, fn = confusion_matrix(y_pred, y_real)\n",
        "print(f\"(TP, TN, FP, FN) = ({tp}, {tn}, {fp}, {fn})\")"
      ]
    },
    {
      "cell_type": "markdown",
      "id": "65f4992d",
      "metadata": {
        "deletable": false,
        "editable": false,
        "nbgrader": {
          "cell_type": "markdown",
          "checksum": "a842b408ec80e18749cfdaf212e8177f",
          "grade": false,
          "grade_id": "cell-ea0d320bf8164776",
          "locked": true,
          "schema_version": 3,
          "solution": false,
          "task": false
        },
        "id": "65f4992d"
      },
      "source": [
        "### 3.2 Accuracy, Precision, Recall, F1 계산\n",
        "- sklearn 라이브러리를 사용하지 않고, 이진분류 모델의 y_pred, y_real로부터 Accuracy, Precision, Recall, F1을 구하는 `calculate_performances` 함수를 작성하세요.\n",
        "- Accuracy, Precision, Recall은 모두 항상 양수라고 가정해도 됩니다."
      ]
    },
    {
      "cell_type": "code",
      "execution_count": null,
      "id": "1bdbe23a",
      "metadata": {
        "deletable": false,
        "nbgrader": {
          "cell_type": "code",
          "checksum": "d188249f680d412857d83ba3b0a53a2d",
          "grade": false,
          "grade_id": "3-2",
          "locked": false,
          "schema_version": 3,
          "solution": true,
          "task": false
        },
        "id": "1bdbe23a"
      },
      "outputs": [],
      "source": [
        "def calculate_performances(y_pred, y_real):\n",
        "    accuracy = 0\n",
        "    precision = 0\n",
        "    recall = 0\n",
        "    f1 = 0\n",
        "\n",
        "    tp, tn, fp, fn = confusion_matrix(y_pred, y_real)\n",
        "    # YOUR CODE HERE\n",
        "    accuracy = (tp+tn)/(tp+tn+fp+fn)\n",
        "    precision = tp/(tp+fp)\n",
        "    recall = tp/(tp+fn)\n",
        "    f1 = 2*((precision*recall)/(precision+recall))\n",
        "    \n",
        "    # YOUR CODE ENDS HERE\n",
        "\n",
        "    return accuracy, precision, recall, f1"
      ]
    },
    {
      "cell_type": "code",
      "execution_count": null,
      "id": "f7e408e2",
      "metadata": {
        "deletable": false,
        "editable": false,
        "nbgrader": {
          "cell_type": "code",
          "checksum": "cbe26f23b44636b5f346a90c1f5b0622",
          "grade": true,
          "grade_id": "3-2_test",
          "locked": true,
          "points": 1,
          "schema_version": 3,
          "solution": false,
          "task": false
        },
        "id": "f7e408e2",
        "outputId": "4c784954-3a50-43c8-cfb3-51bb70fbd538",
        "colab": {
          "base_uri": "https://localhost:8080/"
        }
      },
      "outputs": [
        {
          "output_type": "stream",
          "name": "stdout",
          "text": [
            "Accuracy: 0.65\n",
            "Precision: 0.6666666666666666\n",
            "Recall: 0.7272727272727273\n",
            "F1: 0.6956521739130435\n"
          ]
        }
      ],
      "source": [
        "y_pred = np.array([0, 1, 1, 1, 1, 1, 1, 1, 1, 0, 1, 0, 1, 1, 0, 0, 0, 0, 0, 1])\n",
        "y_real = np.array([1, 1, 1, 1, 1, 1, 1, 1, 0, 1, 1, 1, 0, 0, 0, 0, 0, 0, 0, 0])\n",
        "accuracy, precision, recall, f1 = calculate_performances(y_pred, y_real)\n",
        "print(\"Accuracy:\", accuracy)\n",
        "print(\"Precision:\", precision)\n",
        "print(\"Recall:\", recall)\n",
        "print(\"F1:\", f1)"
      ]
    },
    {
      "cell_type": "markdown",
      "id": "03ae59d3",
      "metadata": {
        "deletable": false,
        "editable": false,
        "nbgrader": {
          "cell_type": "markdown",
          "checksum": "2b64f1c4577dc58a892320ad6bf6799b",
          "grade": false,
          "grade_id": "cell-e480fadfb1c9bfe1",
          "locked": true,
          "schema_version": 3,
          "solution": false,
          "task": false
        },
        "id": "03ae59d3"
      },
      "source": [
        "### 3.3 TPR, FPR, AUC\n",
        "- sklearn 라이브러리를 사용하지 않고, 이진분류 모델의 예측 확률, 실제 label 및 threshold로부터 TPR, FPR을 구하는 `calculate_prs` 함수를 작성하세요.\n",
        "    - `y_pred_proba` > `threshold`일 때 모델은 해당 sample을 1이라고 분류합니다."
      ]
    },
    {
      "cell_type": "code",
      "execution_count": null,
      "id": "ad2a27c7",
      "metadata": {
        "deletable": false,
        "nbgrader": {
          "cell_type": "code",
          "checksum": "b18f2c1f6c4150d3b3b9f749026f9950",
          "grade": false,
          "grade_id": "3-3",
          "locked": false,
          "schema_version": 3,
          "solution": true,
          "task": false
        },
        "id": "ad2a27c7"
      },
      "outputs": [],
      "source": [
        "def calculate_prs(y_pred_proba, y_real, threshold):\n",
        "    TPR = 0.0\n",
        "    FPR = 0.0\n",
        "\n",
        "    # YOUR CODE HERE\n",
        "    \n",
        "    \n",
        "    # YOUR CODE ENDS HERE\n",
        "\n",
        "    return TPR, FPR"
      ]
    },
    {
      "cell_type": "markdown",
      "id": "64e954a4",
      "metadata": {
        "deletable": false,
        "editable": false,
        "nbgrader": {
          "cell_type": "markdown",
          "checksum": "f5b037eba41e5b4ef54fd5df99cdcd96",
          "grade": false,
          "grade_id": "cell-f6d635fc1236f46b",
          "locked": true,
          "schema_version": 3,
          "solution": false,
          "task": false
        },
        "id": "64e954a4"
      },
      "source": [
        "- 아래 셀을 실행하여 예시 입력에 대해 각 threshold에서의 TPR, FPR을 구해 보세요.\n",
        "- x축을 FPR, y축을 TPR로 하는 ROC Curve를 확인해 보세요."
      ]
    },
    {
      "cell_type": "code",
      "execution_count": null,
      "id": "d6f8f602",
      "metadata": {
        "deletable": false,
        "editable": false,
        "nbgrader": {
          "cell_type": "code",
          "checksum": "cd774157cea0e957f78ca2571f4962ac",
          "grade": true,
          "grade_id": "3-3_test",
          "locked": true,
          "points": 1,
          "schema_version": 3,
          "solution": false,
          "task": false
        },
        "id": "d6f8f602"
      },
      "outputs": [],
      "source": [
        "import matplotlib.pyplot as plt\n",
        "\n",
        "y_pred_proba = np.array(\n",
        "    [\n",
        "        0.62574153,\n",
        "        0.62212357,\n",
        "        0.64912789,\n",
        "        0.98636048,\n",
        "        0.84379945,\n",
        "        0.61600836,\n",
        "        0.33085066,\n",
        "        0.34542886,\n",
        "        0.58859945,\n",
        "        0.97971037,\n",
        "        0.52886705,\n",
        "        0.89255893,\n",
        "        0.69924888,\n",
        "        0.66564046,\n",
        "        0.52909411,\n",
        "        0.4817106,\n",
        "        0.03277238,\n",
        "        0.53550684,\n",
        "        0.40602853,\n",
        "        0.09380067,\n",
        "    ]\n",
        ")\n",
        "y_real = np.array([1, 1, 1, 1, 1, 1, 1, 1, 0, 1, 1, 1, 0, 0, 0, 0, 0, 0, 0, 0])\n",
        "thresholds = np.sort(list(y_pred_proba) + [np.max(y_pred_proba) + 1])[::-1]\n",
        "tpr_fpr_by_threshold = [calculate_prs(y_pred_proba, y_real, th) for th in thresholds]\n",
        "tprs, fprs = list(zip(*tpr_fpr_by_threshold))\n",
        "for th, tpr, fpr in zip(thresholds, tprs, fprs):\n",
        "    print(f\"Threshold={th:.3f}, TPR={tpr:.3f}, FPR={fpr:.3f} \")\n",
        "\n",
        "\n",
        "plt.plot(fprs, tprs)\n",
        "plt.xlabel(\"FPR\")\n",
        "plt.ylabel(\"TPR\")\n",
        "plt.title(\"ROC Curve\")\n"
      ]
    },
    {
      "cell_type": "markdown",
      "id": "8ad65bc4",
      "metadata": {
        "id": "8ad65bc4"
      },
      "source": [
        "---"
      ]
    },
    {
      "cell_type": "markdown",
      "id": "d88333d9",
      "metadata": {
        "id": "d88333d9"
      },
      "source": [
        "# 수고하셨습니다!"
      ]
    }
  ],
  "metadata": {
    "kernelspec": {
      "display_name": "Python 3 (ipykernel)",
      "language": "python",
      "name": "python3"
    },
    "language_info": {
      "codemirror_mode": {
        "name": "ipython",
        "version": 3
      },
      "file_extension": ".py",
      "mimetype": "text/x-python",
      "name": "python",
      "nbconvert_exporter": "python",
      "pygments_lexer": "ipython3",
      "version": "3.8.9"
    },
    "colab": {
      "name": "Part3.ipynb",
      "provenance": [],
      "include_colab_link": true
    }
  },
  "nbformat": 4,
  "nbformat_minor": 5
}